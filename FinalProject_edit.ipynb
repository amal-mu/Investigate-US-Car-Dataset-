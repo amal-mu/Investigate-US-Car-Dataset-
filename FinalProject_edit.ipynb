{
 "cells": [
  {
   "cell_type": "markdown",
   "metadata": {},
   "source": [
    "# Data Analysis Project: Investigate US Car Dataset\n"
   ]
  },
  {
   "cell_type": "markdown",
   "metadata": {},
   "source": [
    "## Data Analysis Project: Investigate US Car Dataset\n"
   ]
  },
  {
   "cell_type": "markdown",
   "metadata": {},
   "source": [
    "#  Introduction\n",
    "For this Data Analyst project, we selected the US Car dataset from kaggle to investigate.It collects 2499 cars and their price along with brands, models, color,status and other related information.The description of each featur can be found in [Here](https://www.kaggle.com/doaaalsenani/usa-cers-dataset/discussion)<br> "
   ]
  },
  {
   "cell_type": "markdown",
   "metadata": {},
   "source": [
    " ### Features :our dataset has 12 Columns \n",
    "price : The sale price of the vehicle in the ad<br> \n",
    "brand : The brand of car<br> \n",
    "model: model of the vehicle<br> \n",
    "year: The vehicle registration year<br> \n",
    "title_status: This feature included binary classification, which are clean title vehicles and salvage insurance<br> \n",
    "mileagemiles: traveled by vehicle<br> \n",
    "color: Color of the vehicle<br> \n",
    "vinThe: vehicle identification number is a collection of 17 characters (digits and capital letters)<br> \n",
    "lotA: lot number is an identification number assigned to a particular quantity or lot of material from a single manufacturer<br> \n",
    "state: The location in which the car is being available for purchase<br> \n",
    "country: The location in which the car is being available for purchase<br> \n",
    "condition: Time"
   ]
  },
  {
   "cell_type": "markdown",
   "metadata": {},
   "source": [
    "# The potental problem that can be discussed in the dataset:\n",
    "\n",
    "Price is our target feature. We will do most of exploratory data analysis with respect to price.Thus we will discus how price is affected by different features like status, mileage, state and year. We are also going to explore popular brand and color.\n",
    "\n"
   ]
  },
  {
   "cell_type": "markdown",
   "metadata": {},
   "source": [
    "### Questions:\n",
    "- General information catagoriesed by different features like year, brand, model, color,state\n",
    "- Distribution of price vs. the Year of Registration. \n",
    "- Distribution of price vs. different mileage levels.\n",
    "- Find the other properties that are associated with price.\n",
    "- General observations.\n",
    "\n"
   ]
  },
  {
   "cell_type": "code",
   "execution_count": null,
   "metadata": {},
   "outputs": [],
   "source": [
    "#### Operations to be performed inorder to do the data analysis mentioned above:\n",
    "\n",
    "1. General Data Exploring \n",
    "2. Data cleaning\n",
    "3. Wrangling \n",
    "4. Data visualization"
   ]
  },
  {
   "cell_type": "code",
   "execution_count": 2,
   "metadata": {},
   "outputs": [],
   "source": [
    "import pandas as pd\n",
    "import numpy as np\n",
    "import matplotlib.pyplot as plt\n",
    "import seaborn as sns\n",
    "from collections import Counter\n",
    "%matplotlib inline"
   ]
  },
  {
   "cell_type": "code",
   "execution_count": 3,
   "metadata": {},
   "outputs": [
    {
     "data": {
      "text/html": [
       "<div>\n",
       "<style scoped>\n",
       "    .dataframe tbody tr th:only-of-type {\n",
       "        vertical-align: middle;\n",
       "    }\n",
       "\n",
       "    .dataframe tbody tr th {\n",
       "        vertical-align: top;\n",
       "    }\n",
       "\n",
       "    .dataframe thead th {\n",
       "        text-align: right;\n",
       "    }\n",
       "</style>\n",
       "<table border=\"1\" class=\"dataframe\">\n",
       "  <thead>\n",
       "    <tr style=\"text-align: right;\">\n",
       "      <th></th>\n",
       "      <th>Unnamed: 0</th>\n",
       "      <th>price</th>\n",
       "      <th>brand</th>\n",
       "      <th>model</th>\n",
       "      <th>year</th>\n",
       "      <th>title_status</th>\n",
       "      <th>mileage</th>\n",
       "      <th>color</th>\n",
       "      <th>vin</th>\n",
       "      <th>lot</th>\n",
       "      <th>state</th>\n",
       "      <th>country</th>\n",
       "      <th>condition</th>\n",
       "    </tr>\n",
       "  </thead>\n",
       "  <tbody>\n",
       "    <tr>\n",
       "      <td>0</td>\n",
       "      <td>0</td>\n",
       "      <td>6300</td>\n",
       "      <td>toyota</td>\n",
       "      <td>cruiser</td>\n",
       "      <td>2008</td>\n",
       "      <td>clean vehicle</td>\n",
       "      <td>274117.0</td>\n",
       "      <td>black</td>\n",
       "      <td>jtezu11f88k007763</td>\n",
       "      <td>159348797</td>\n",
       "      <td>new jersey</td>\n",
       "      <td>usa</td>\n",
       "      <td>10 days left</td>\n",
       "    </tr>\n",
       "    <tr>\n",
       "      <td>1</td>\n",
       "      <td>1</td>\n",
       "      <td>2899</td>\n",
       "      <td>ford</td>\n",
       "      <td>se</td>\n",
       "      <td>2011</td>\n",
       "      <td>clean vehicle</td>\n",
       "      <td>190552.0</td>\n",
       "      <td>silver</td>\n",
       "      <td>2fmdk3gc4bbb02217</td>\n",
       "      <td>166951262</td>\n",
       "      <td>tennessee</td>\n",
       "      <td>usa</td>\n",
       "      <td>6 days left</td>\n",
       "    </tr>\n",
       "    <tr>\n",
       "      <td>2</td>\n",
       "      <td>2</td>\n",
       "      <td>5350</td>\n",
       "      <td>dodge</td>\n",
       "      <td>mpv</td>\n",
       "      <td>2018</td>\n",
       "      <td>clean vehicle</td>\n",
       "      <td>39590.0</td>\n",
       "      <td>silver</td>\n",
       "      <td>3c4pdcgg5jt346413</td>\n",
       "      <td>167655728</td>\n",
       "      <td>georgia</td>\n",
       "      <td>usa</td>\n",
       "      <td>2 days left</td>\n",
       "    </tr>\n",
       "    <tr>\n",
       "      <td>3</td>\n",
       "      <td>3</td>\n",
       "      <td>25000</td>\n",
       "      <td>ford</td>\n",
       "      <td>door</td>\n",
       "      <td>2014</td>\n",
       "      <td>clean vehicle</td>\n",
       "      <td>64146.0</td>\n",
       "      <td>blue</td>\n",
       "      <td>1ftfw1et4efc23745</td>\n",
       "      <td>167753855</td>\n",
       "      <td>virginia</td>\n",
       "      <td>usa</td>\n",
       "      <td>22 hours left</td>\n",
       "    </tr>\n",
       "    <tr>\n",
       "      <td>4</td>\n",
       "      <td>4</td>\n",
       "      <td>27700</td>\n",
       "      <td>chevrolet</td>\n",
       "      <td>1500</td>\n",
       "      <td>2018</td>\n",
       "      <td>clean vehicle</td>\n",
       "      <td>6654.0</td>\n",
       "      <td>red</td>\n",
       "      <td>3gcpcrec2jg473991</td>\n",
       "      <td>167763266</td>\n",
       "      <td>florida</td>\n",
       "      <td>usa</td>\n",
       "      <td>22 hours left</td>\n",
       "    </tr>\n",
       "  </tbody>\n",
       "</table>\n",
       "</div>"
      ],
      "text/plain": [
       "   Unnamed: 0  price      brand    model  year   title_status   mileage  \\\n",
       "0           0   6300     toyota  cruiser  2008  clean vehicle  274117.0   \n",
       "1           1   2899       ford       se  2011  clean vehicle  190552.0   \n",
       "2           2   5350      dodge      mpv  2018  clean vehicle   39590.0   \n",
       "3           3  25000       ford     door  2014  clean vehicle   64146.0   \n",
       "4           4  27700  chevrolet     1500  2018  clean vehicle    6654.0   \n",
       "\n",
       "    color                  vin        lot       state country      condition  \n",
       "0   black    jtezu11f88k007763  159348797  new jersey     usa   10 days left  \n",
       "1  silver    2fmdk3gc4bbb02217  166951262   tennessee     usa    6 days left  \n",
       "2  silver    3c4pdcgg5jt346413  167655728     georgia     usa    2 days left  \n",
       "3    blue    1ftfw1et4efc23745  167753855    virginia     usa  22 hours left  \n",
       "4     red    3gcpcrec2jg473991  167763266     florida     usa  22 hours left  "
      ]
     },
     "execution_count": 3,
     "metadata": {},
     "output_type": "execute_result"
    }
   ],
   "source": [
    "# Load the data and print out a few lines. Perform operations to inspect data\n",
    "df = pd.read_csv('')\n",
    "df.head()"
   ]
  },
  {
   "cell_type": "markdown",
   "metadata": {},
   "source": [
    "#### Columns tobe removed\n",
    "As we can see above, the data set has one unnamed column, it is an index value.Since we have an index during dataframe \n",
    "creation, we don't need this unnamed colummon. we are going to remove it Columns vin and lot have nothing with our \n",
    "objective of study of this dataset which is described above. Thus we are going to remove this columns too."
   ]
  },
  {
   "cell_type": "code",
   "execution_count": 4,
   "metadata": {},
   "outputs": [
    {
     "name": "stdout",
     "output_type": "stream",
     "text": [
      "<class 'pandas.core.frame.DataFrame'>\n",
      "RangeIndex: 2499 entries, 0 to 2498\n",
      "Data columns (total 13 columns):\n",
      "Unnamed: 0      2499 non-null int64\n",
      "price           2499 non-null int64\n",
      "brand           2499 non-null object\n",
      "model           2499 non-null object\n",
      "year            2499 non-null int64\n",
      "title_status    2499 non-null object\n",
      "mileage         2499 non-null float64\n",
      "color           2499 non-null object\n",
      "vin             2499 non-null object\n",
      "lot             2499 non-null int64\n",
      "state           2499 non-null object\n",
      "country         2499 non-null object\n",
      "condition       2499 non-null object\n",
      "dtypes: float64(1), int64(4), object(8)\n",
      "memory usage: 253.9+ KB\n"
     ]
    }
   ],
   "source": [
    "#see the column info and null values in the dataset\n",
    "df.info()"
   ]
  },
  {
   "cell_type": "markdown",
   "metadata": {},
   "source": [
    "We can see above that there are total 2499 rows and 12 columns. And there are no null values. Thus we don't have any \n",
    "null value to be removed or replaced with. Let's see some descriptive statistics for the data set."
   ]
  },
  {
   "cell_type": "code",
   "execution_count": 5,
   "metadata": {},
   "outputs": [
    {
     "data": {
      "text/html": [
       "<div>\n",
       "<style scoped>\n",
       "    .dataframe tbody tr th:only-of-type {\n",
       "        vertical-align: middle;\n",
       "    }\n",
       "\n",
       "    .dataframe tbody tr th {\n",
       "        vertical-align: top;\n",
       "    }\n",
       "\n",
       "    .dataframe thead th {\n",
       "        text-align: right;\n",
       "    }\n",
       "</style>\n",
       "<table border=\"1\" class=\"dataframe\">\n",
       "  <thead>\n",
       "    <tr style=\"text-align: right;\">\n",
       "      <th></th>\n",
       "      <th>Unnamed: 0</th>\n",
       "      <th>price</th>\n",
       "      <th>brand</th>\n",
       "      <th>model</th>\n",
       "      <th>year</th>\n",
       "      <th>title_status</th>\n",
       "      <th>mileage</th>\n",
       "      <th>color</th>\n",
       "      <th>vin</th>\n",
       "      <th>lot</th>\n",
       "      <th>state</th>\n",
       "      <th>country</th>\n",
       "      <th>condition</th>\n",
       "    </tr>\n",
       "  </thead>\n",
       "  <tbody>\n",
       "    <tr>\n",
       "      <td>count</td>\n",
       "      <td>2499.000000</td>\n",
       "      <td>2499.000000</td>\n",
       "      <td>2499</td>\n",
       "      <td>2499</td>\n",
       "      <td>2499.000000</td>\n",
       "      <td>2499</td>\n",
       "      <td>2.499000e+03</td>\n",
       "      <td>2499</td>\n",
       "      <td>2499</td>\n",
       "      <td>2.499000e+03</td>\n",
       "      <td>2499</td>\n",
       "      <td>2499</td>\n",
       "      <td>2499</td>\n",
       "    </tr>\n",
       "    <tr>\n",
       "      <td>unique</td>\n",
       "      <td>NaN</td>\n",
       "      <td>NaN</td>\n",
       "      <td>28</td>\n",
       "      <td>127</td>\n",
       "      <td>NaN</td>\n",
       "      <td>2</td>\n",
       "      <td>NaN</td>\n",
       "      <td>49</td>\n",
       "      <td>2495</td>\n",
       "      <td>NaN</td>\n",
       "      <td>44</td>\n",
       "      <td>2</td>\n",
       "      <td>47</td>\n",
       "    </tr>\n",
       "    <tr>\n",
       "      <td>top</td>\n",
       "      <td>NaN</td>\n",
       "      <td>NaN</td>\n",
       "      <td>ford</td>\n",
       "      <td>door</td>\n",
       "      <td>NaN</td>\n",
       "      <td>clean vehicle</td>\n",
       "      <td>NaN</td>\n",
       "      <td>white</td>\n",
       "      <td>1gndt13s632267445</td>\n",
       "      <td>NaN</td>\n",
       "      <td>pennsylvania</td>\n",
       "      <td>usa</td>\n",
       "      <td>2 days left</td>\n",
       "    </tr>\n",
       "    <tr>\n",
       "      <td>freq</td>\n",
       "      <td>NaN</td>\n",
       "      <td>NaN</td>\n",
       "      <td>1235</td>\n",
       "      <td>651</td>\n",
       "      <td>NaN</td>\n",
       "      <td>2336</td>\n",
       "      <td>NaN</td>\n",
       "      <td>707</td>\n",
       "      <td>2</td>\n",
       "      <td>NaN</td>\n",
       "      <td>299</td>\n",
       "      <td>2492</td>\n",
       "      <td>832</td>\n",
       "    </tr>\n",
       "    <tr>\n",
       "      <td>mean</td>\n",
       "      <td>1249.000000</td>\n",
       "      <td>18767.671469</td>\n",
       "      <td>NaN</td>\n",
       "      <td>NaN</td>\n",
       "      <td>2016.714286</td>\n",
       "      <td>NaN</td>\n",
       "      <td>5.229869e+04</td>\n",
       "      <td>NaN</td>\n",
       "      <td>NaN</td>\n",
       "      <td>1.676914e+08</td>\n",
       "      <td>NaN</td>\n",
       "      <td>NaN</td>\n",
       "      <td>NaN</td>\n",
       "    </tr>\n",
       "    <tr>\n",
       "      <td>std</td>\n",
       "      <td>721.543484</td>\n",
       "      <td>12116.094936</td>\n",
       "      <td>NaN</td>\n",
       "      <td>NaN</td>\n",
       "      <td>3.442656</td>\n",
       "      <td>NaN</td>\n",
       "      <td>5.970552e+04</td>\n",
       "      <td>NaN</td>\n",
       "      <td>NaN</td>\n",
       "      <td>2.038772e+05</td>\n",
       "      <td>NaN</td>\n",
       "      <td>NaN</td>\n",
       "      <td>NaN</td>\n",
       "    </tr>\n",
       "    <tr>\n",
       "      <td>min</td>\n",
       "      <td>0.000000</td>\n",
       "      <td>0.000000</td>\n",
       "      <td>NaN</td>\n",
       "      <td>NaN</td>\n",
       "      <td>1973.000000</td>\n",
       "      <td>NaN</td>\n",
       "      <td>0.000000e+00</td>\n",
       "      <td>NaN</td>\n",
       "      <td>NaN</td>\n",
       "      <td>1.593488e+08</td>\n",
       "      <td>NaN</td>\n",
       "      <td>NaN</td>\n",
       "      <td>NaN</td>\n",
       "    </tr>\n",
       "    <tr>\n",
       "      <td>25%</td>\n",
       "      <td>624.500000</td>\n",
       "      <td>10200.000000</td>\n",
       "      <td>NaN</td>\n",
       "      <td>NaN</td>\n",
       "      <td>2016.000000</td>\n",
       "      <td>NaN</td>\n",
       "      <td>2.146650e+04</td>\n",
       "      <td>NaN</td>\n",
       "      <td>NaN</td>\n",
       "      <td>1.676253e+08</td>\n",
       "      <td>NaN</td>\n",
       "      <td>NaN</td>\n",
       "      <td>NaN</td>\n",
       "    </tr>\n",
       "    <tr>\n",
       "      <td>50%</td>\n",
       "      <td>1249.000000</td>\n",
       "      <td>16900.000000</td>\n",
       "      <td>NaN</td>\n",
       "      <td>NaN</td>\n",
       "      <td>2018.000000</td>\n",
       "      <td>NaN</td>\n",
       "      <td>3.536500e+04</td>\n",
       "      <td>NaN</td>\n",
       "      <td>NaN</td>\n",
       "      <td>1.677451e+08</td>\n",
       "      <td>NaN</td>\n",
       "      <td>NaN</td>\n",
       "      <td>NaN</td>\n",
       "    </tr>\n",
       "    <tr>\n",
       "      <td>75%</td>\n",
       "      <td>1873.500000</td>\n",
       "      <td>25555.500000</td>\n",
       "      <td>NaN</td>\n",
       "      <td>NaN</td>\n",
       "      <td>2019.000000</td>\n",
       "      <td>NaN</td>\n",
       "      <td>6.347250e+04</td>\n",
       "      <td>NaN</td>\n",
       "      <td>NaN</td>\n",
       "      <td>1.677798e+08</td>\n",
       "      <td>NaN</td>\n",
       "      <td>NaN</td>\n",
       "      <td>NaN</td>\n",
       "    </tr>\n",
       "    <tr>\n",
       "      <td>max</td>\n",
       "      <td>2498.000000</td>\n",
       "      <td>84900.000000</td>\n",
       "      <td>NaN</td>\n",
       "      <td>NaN</td>\n",
       "      <td>2020.000000</td>\n",
       "      <td>NaN</td>\n",
       "      <td>1.017936e+06</td>\n",
       "      <td>NaN</td>\n",
       "      <td>NaN</td>\n",
       "      <td>1.678055e+08</td>\n",
       "      <td>NaN</td>\n",
       "      <td>NaN</td>\n",
       "      <td>NaN</td>\n",
       "    </tr>\n",
       "  </tbody>\n",
       "</table>\n",
       "</div>"
      ],
      "text/plain": [
       "         Unnamed: 0         price brand model         year   title_status  \\\n",
       "count   2499.000000   2499.000000  2499  2499  2499.000000           2499   \n",
       "unique          NaN           NaN    28   127          NaN              2   \n",
       "top             NaN           NaN  ford  door          NaN  clean vehicle   \n",
       "freq            NaN           NaN  1235   651          NaN           2336   \n",
       "mean    1249.000000  18767.671469   NaN   NaN  2016.714286            NaN   \n",
       "std      721.543484  12116.094936   NaN   NaN     3.442656            NaN   \n",
       "min        0.000000      0.000000   NaN   NaN  1973.000000            NaN   \n",
       "25%      624.500000  10200.000000   NaN   NaN  2016.000000            NaN   \n",
       "50%     1249.000000  16900.000000   NaN   NaN  2018.000000            NaN   \n",
       "75%     1873.500000  25555.500000   NaN   NaN  2019.000000            NaN   \n",
       "max     2498.000000  84900.000000   NaN   NaN  2020.000000            NaN   \n",
       "\n",
       "             mileage  color                  vin           lot         state  \\\n",
       "count   2.499000e+03   2499                 2499  2.499000e+03          2499   \n",
       "unique           NaN     49                 2495           NaN            44   \n",
       "top              NaN  white    1gndt13s632267445           NaN  pennsylvania   \n",
       "freq             NaN    707                    2           NaN           299   \n",
       "mean    5.229869e+04    NaN                  NaN  1.676914e+08           NaN   \n",
       "std     5.970552e+04    NaN                  NaN  2.038772e+05           NaN   \n",
       "min     0.000000e+00    NaN                  NaN  1.593488e+08           NaN   \n",
       "25%     2.146650e+04    NaN                  NaN  1.676253e+08           NaN   \n",
       "50%     3.536500e+04    NaN                  NaN  1.677451e+08           NaN   \n",
       "75%     6.347250e+04    NaN                  NaN  1.677798e+08           NaN   \n",
       "max     1.017936e+06    NaN                  NaN  1.678055e+08           NaN   \n",
       "\n",
       "       country    condition  \n",
       "count     2499         2499  \n",
       "unique       2           47  \n",
       "top        usa  2 days left  \n",
       "freq      2492          832  \n",
       "mean       NaN          NaN  \n",
       "std        NaN          NaN  \n",
       "min        NaN          NaN  \n",
       "25%        NaN          NaN  \n",
       "50%        NaN          NaN  \n",
       "75%        NaN          NaN  \n",
       "max        NaN          NaN  "
      ]
     },
     "execution_count": 5,
     "metadata": {},
     "output_type": "execute_result"
    }
   ],
   "source": [
    "df.describe(include='all')"
   ]
  },
  {
   "cell_type": "markdown",
   "metadata": {},
   "source": [
    "#### Observation\n",
    "1. We can see that there are 28 unique brands and 127 unique models.\n",
    "2. Ford is the topest brand and door are the topest brand and model with frequency of 1235 and 651 respectively.\n",
    "3. There are only two category of countries that USA is the top with frequency of 2492; this means the other country \n",
    "   is apeared only with (2499-2492)=7 cars which is insignificant. Thus we are going to remove it.\n",
    "4. Minimum price of car is zero. This cannot be true. We are going to remove all zero price values.\n",
    "5. Maximum price of the car in this dataset is $84990.\n",
    "6. Oldest model of car is from 1973.\n",
    "7  First quartile value 25% lies in the year 2016. This indicated that more than 75% of the cars are new models and are \n",
    "   built after 2016."
   ]
  },
  {
   "cell_type": "markdown",
   "metadata": {},
   "source": [
    "###  Cleaning and Prepping Data"
   ]
  },
  {
   "cell_type": "markdown",
   "metadata": {},
   "source": [
    "##### The major and the first step in data analysis is data cleaning.Let us explore some unrealistic price values if any. \n",
    "We agreed that prices which are less than $200 will be considered as unrealistic price; thus they are going to remove those rows with unrealistic price values."
   ]
  },
  {
   "cell_type": "markdown",
   "metadata": {},
   "source": [
    "This produces a list below showing the percentage of missing values for each of the features"
   ]
  },
  {
   "cell_type": "code",
   "execution_count": 6,
   "metadata": {
    "scrolled": true
   },
   "outputs": [
    {
     "data": {
      "text/html": [
       "<div>\n",
       "<style scoped>\n",
       "    .dataframe tbody tr th:only-of-type {\n",
       "        vertical-align: middle;\n",
       "    }\n",
       "\n",
       "    .dataframe tbody tr th {\n",
       "        vertical-align: top;\n",
       "    }\n",
       "\n",
       "    .dataframe thead th {\n",
       "        text-align: right;\n",
       "    }\n",
       "</style>\n",
       "<table border=\"1\" class=\"dataframe\">\n",
       "  <thead>\n",
       "    <tr style=\"text-align: right;\">\n",
       "      <th></th>\n",
       "      <th>Unnamed: 0</th>\n",
       "      <th>price</th>\n",
       "      <th>brand</th>\n",
       "      <th>model</th>\n",
       "      <th>year</th>\n",
       "      <th>title_status</th>\n",
       "      <th>mileage</th>\n",
       "      <th>color</th>\n",
       "      <th>vin</th>\n",
       "      <th>lot</th>\n",
       "      <th>state</th>\n",
       "      <th>country</th>\n",
       "      <th>condition</th>\n",
       "    </tr>\n",
       "  </thead>\n",
       "  <tbody>\n",
       "    <tr>\n",
       "      <td>141</td>\n",
       "      <td>141</td>\n",
       "      <td>0</td>\n",
       "      <td>dodge</td>\n",
       "      <td>van</td>\n",
       "      <td>2008</td>\n",
       "      <td>salvage insurance</td>\n",
       "      <td>177948.0</td>\n",
       "      <td>orange</td>\n",
       "      <td>2d8hn44h88r669549</td>\n",
       "      <td>167756157</td>\n",
       "      <td>utah</td>\n",
       "      <td>usa</td>\n",
       "      <td>2 days left</td>\n",
       "    </tr>\n",
       "    <tr>\n",
       "      <td>144</td>\n",
       "      <td>144</td>\n",
       "      <td>0</td>\n",
       "      <td>dodge</td>\n",
       "      <td>door</td>\n",
       "      <td>2014</td>\n",
       "      <td>salvage insurance</td>\n",
       "      <td>123660.0</td>\n",
       "      <td>silver</td>\n",
       "      <td>1c3cdzab0en111068</td>\n",
       "      <td>167756167</td>\n",
       "      <td>utah</td>\n",
       "      <td>usa</td>\n",
       "      <td>2 days left</td>\n",
       "    </tr>\n",
       "    <tr>\n",
       "      <td>188</td>\n",
       "      <td>188</td>\n",
       "      <td>175</td>\n",
       "      <td>chrysler</td>\n",
       "      <td>door</td>\n",
       "      <td>2000</td>\n",
       "      <td>salvage insurance</td>\n",
       "      <td>231240.0</td>\n",
       "      <td>red</td>\n",
       "      <td>2c3hd46r3yh208325</td>\n",
       "      <td>167756464</td>\n",
       "      <td>north carolina</td>\n",
       "      <td>usa</td>\n",
       "      <td>3 days left</td>\n",
       "    </tr>\n",
       "    <tr>\n",
       "      <td>196</td>\n",
       "      <td>196</td>\n",
       "      <td>0</td>\n",
       "      <td>ford</td>\n",
       "      <td>mpv</td>\n",
       "      <td>2017</td>\n",
       "      <td>clean vehicle</td>\n",
       "      <td>76858.0</td>\n",
       "      <td>white</td>\n",
       "      <td>1fbax2cv0hkb32599</td>\n",
       "      <td>167656523</td>\n",
       "      <td>texas</td>\n",
       "      <td>usa</td>\n",
       "      <td>2 days left</td>\n",
       "    </tr>\n",
       "    <tr>\n",
       "      <td>206</td>\n",
       "      <td>206</td>\n",
       "      <td>25</td>\n",
       "      <td>chevrolet</td>\n",
       "      <td>vehicl</td>\n",
       "      <td>2020</td>\n",
       "      <td>salvage insurance</td>\n",
       "      <td>7232.0</td>\n",
       "      <td>black</td>\n",
       "      <td>2gnaxkev6l6128374</td>\n",
       "      <td>167756877</td>\n",
       "      <td>kentucky</td>\n",
       "      <td>usa</td>\n",
       "      <td>3 days left</td>\n",
       "    </tr>\n",
       "    <tr>\n",
       "      <td>...</td>\n",
       "      <td>...</td>\n",
       "      <td>...</td>\n",
       "      <td>...</td>\n",
       "      <td>...</td>\n",
       "      <td>...</td>\n",
       "      <td>...</td>\n",
       "      <td>...</td>\n",
       "      <td>...</td>\n",
       "      <td>...</td>\n",
       "      <td>...</td>\n",
       "      <td>...</td>\n",
       "      <td>...</td>\n",
       "      <td>...</td>\n",
       "    </tr>\n",
       "    <tr>\n",
       "      <td>522</td>\n",
       "      <td>522</td>\n",
       "      <td>0</td>\n",
       "      <td>ford</td>\n",
       "      <td>door</td>\n",
       "      <td>2008</td>\n",
       "      <td>salvage insurance</td>\n",
       "      <td>145483.0</td>\n",
       "      <td>red</td>\n",
       "      <td>1fmcu03128kc80487</td>\n",
       "      <td>167357813</td>\n",
       "      <td>oklahoma</td>\n",
       "      <td>usa</td>\n",
       "      <td>17 hours left</td>\n",
       "    </tr>\n",
       "    <tr>\n",
       "      <td>530</td>\n",
       "      <td>530</td>\n",
       "      <td>0</td>\n",
       "      <td>chevrolet</td>\n",
       "      <td>door</td>\n",
       "      <td>2003</td>\n",
       "      <td>salvage insurance</td>\n",
       "      <td>194673.0</td>\n",
       "      <td>gray</td>\n",
       "      <td>1gndt13s632267445</td>\n",
       "      <td>167650636</td>\n",
       "      <td>texas</td>\n",
       "      <td>usa</td>\n",
       "      <td>17 hours left</td>\n",
       "    </tr>\n",
       "    <tr>\n",
       "      <td>534</td>\n",
       "      <td>534</td>\n",
       "      <td>75</td>\n",
       "      <td>ford</td>\n",
       "      <td>door</td>\n",
       "      <td>2007</td>\n",
       "      <td>salvage insurance</td>\n",
       "      <td>154989.0</td>\n",
       "      <td>blue</td>\n",
       "      <td>3fahp06z07r118828</td>\n",
       "      <td>167357820</td>\n",
       "      <td>oklahoma</td>\n",
       "      <td>usa</td>\n",
       "      <td>17 hours left</td>\n",
       "    </tr>\n",
       "    <tr>\n",
       "      <td>541</td>\n",
       "      <td>541</td>\n",
       "      <td>25</td>\n",
       "      <td>chevrolet</td>\n",
       "      <td>pickup</td>\n",
       "      <td>2010</td>\n",
       "      <td>salvage insurance</td>\n",
       "      <td>149189.0</td>\n",
       "      <td>white</td>\n",
       "      <td>3gcrkse37ag234620</td>\n",
       "      <td>167650663</td>\n",
       "      <td>colorado</td>\n",
       "      <td>usa</td>\n",
       "      <td>17 hours left</td>\n",
       "    </tr>\n",
       "    <tr>\n",
       "      <td>545</td>\n",
       "      <td>545</td>\n",
       "      <td>0</td>\n",
       "      <td>gmc</td>\n",
       "      <td>door</td>\n",
       "      <td>1993</td>\n",
       "      <td>salvage insurance</td>\n",
       "      <td>0.0</td>\n",
       "      <td>light blue</td>\n",
       "      <td>1gkfk16k5pj701631</td>\n",
       "      <td>167358601</td>\n",
       "      <td>colorado</td>\n",
       "      <td>usa</td>\n",
       "      <td>18 hours left</td>\n",
       "    </tr>\n",
       "  </tbody>\n",
       "</table>\n",
       "<p>69 rows × 13 columns</p>\n",
       "</div>"
      ],
      "text/plain": [
       "     Unnamed: 0  price      brand   model  year       title_status   mileage  \\\n",
       "141         141      0      dodge     van  2008  salvage insurance  177948.0   \n",
       "144         144      0      dodge    door  2014  salvage insurance  123660.0   \n",
       "188         188    175   chrysler    door  2000  salvage insurance  231240.0   \n",
       "196         196      0       ford     mpv  2017      clean vehicle   76858.0   \n",
       "206         206     25  chevrolet  vehicl  2020  salvage insurance    7232.0   \n",
       "..          ...    ...        ...     ...   ...                ...       ...   \n",
       "522         522      0       ford    door  2008  salvage insurance  145483.0   \n",
       "530         530      0  chevrolet    door  2003  salvage insurance  194673.0   \n",
       "534         534     75       ford    door  2007  salvage insurance  154989.0   \n",
       "541         541     25  chevrolet  pickup  2010  salvage insurance  149189.0   \n",
       "545         545      0        gmc    door  1993  salvage insurance       0.0   \n",
       "\n",
       "          color                  vin        lot           state country  \\\n",
       "141      orange    2d8hn44h88r669549  167756157            utah     usa   \n",
       "144      silver    1c3cdzab0en111068  167756167            utah     usa   \n",
       "188         red    2c3hd46r3yh208325  167756464  north carolina     usa   \n",
       "196       white    1fbax2cv0hkb32599  167656523           texas     usa   \n",
       "206       black    2gnaxkev6l6128374  167756877        kentucky     usa   \n",
       "..          ...                  ...        ...             ...     ...   \n",
       "522         red    1fmcu03128kc80487  167357813        oklahoma     usa   \n",
       "530        gray    1gndt13s632267445  167650636           texas     usa   \n",
       "534        blue    3fahp06z07r118828  167357820        oklahoma     usa   \n",
       "541       white    3gcrkse37ag234620  167650663        colorado     usa   \n",
       "545  light blue    1gkfk16k5pj701631  167358601        colorado     usa   \n",
       "\n",
       "         condition  \n",
       "141    2 days left  \n",
       "144    2 days left  \n",
       "188    3 days left  \n",
       "196    2 days left  \n",
       "206    3 days left  \n",
       "..             ...  \n",
       "522  17 hours left  \n",
       "530  17 hours left  \n",
       "534  17 hours left  \n",
       "541  17 hours left  \n",
       "545  18 hours left  \n",
       "\n",
       "[69 rows x 13 columns]"
      ]
     },
     "execution_count": 6,
     "metadata": {},
     "output_type": "execute_result"
    }
   ],
   "source": [
    "#Exploring other unrealistic price values\n",
    "\n",
    "unrialsticdata=df[df['price'] < 200]\n",
    "unrialsticdata"
   ]
  },
  {
   "cell_type": "markdown",
   "metadata": {},
   "source": [
    "As we can see, there are 70 rows with price less than 200. As per our previous discussed, it is time to remove all of them."
   ]
  },
  {
   "cell_type": "markdown",
   "metadata": {},
   "source": [
    " we can see that in table above the dataset is well structured and the data in each column are clear without any null value \n"
   ]
  },
  {
   "cell_type": "markdown",
   "metadata": {},
   "source": [
    "Before droping columns let's see what what the other coutry with ony 7 rows\n"
   ]
  },
  {
   "cell_type": "code",
   "execution_count": 7,
   "metadata": {},
   "outputs": [
    {
     "data": {
      "text/plain": [
       "country\n",
       " canada       7\n",
       " usa       2492\n",
       "Name: brand, dtype: int64"
      ]
     },
     "execution_count": 7,
     "metadata": {},
     "output_type": "execute_result"
    }
   ],
   "source": [
    "Country_roup =  df.groupby('country').count()['brand']\n",
    "Country_roup"
   ]
  },
  {
   "cell_type": "markdown",
   "metadata": {},
   "source": [
    "We can see that the other country Canada is shown up with only 7 records which is about 0.28%. As we have discussed above,\n",
    "Since 99% of all cars are under custody of USA, dealing with data of canada has no relevance.Thus we are going to drop the \n",
    "column country."
   ]
  },
  {
   "cell_type": "code",
   "execution_count": 8,
   "metadata": {},
   "outputs": [],
   "source": [
    "#remove Unnamed column\n",
    "#Droping columns which are not relevant for our data analysis\n",
    "drop_cols = ['Unnamed: 0', 'country', 'vin','condition']\n",
    "df.drop(columns=drop_cols, axis=1, inplace=True)\n"
   ]
  },
  {
   "cell_type": "markdown",
   "metadata": {},
   "source": [
    "#### End of data cleaning.\n",
    "After all this is the dataset that we are going to do data wrangling, data visualization and any other further analysis."
   ]
  },
  {
   "cell_type": "code",
   "execution_count": 9,
   "metadata": {},
   "outputs": [
    {
     "data": {
      "text/html": [
       "<div>\n",
       "<style scoped>\n",
       "    .dataframe tbody tr th:only-of-type {\n",
       "        vertical-align: middle;\n",
       "    }\n",
       "\n",
       "    .dataframe tbody tr th {\n",
       "        vertical-align: top;\n",
       "    }\n",
       "\n",
       "    .dataframe thead th {\n",
       "        text-align: right;\n",
       "    }\n",
       "</style>\n",
       "<table border=\"1\" class=\"dataframe\">\n",
       "  <thead>\n",
       "    <tr style=\"text-align: right;\">\n",
       "      <th></th>\n",
       "      <th>price</th>\n",
       "      <th>year</th>\n",
       "      <th>mileage</th>\n",
       "      <th>lot</th>\n",
       "    </tr>\n",
       "  </thead>\n",
       "  <tbody>\n",
       "    <tr>\n",
       "      <td>count</td>\n",
       "      <td>2499.000000</td>\n",
       "      <td>2499.000000</td>\n",
       "      <td>2.499000e+03</td>\n",
       "      <td>2.499000e+03</td>\n",
       "    </tr>\n",
       "    <tr>\n",
       "      <td>mean</td>\n",
       "      <td>18767.671469</td>\n",
       "      <td>2016.714286</td>\n",
       "      <td>5.229869e+04</td>\n",
       "      <td>1.676914e+08</td>\n",
       "    </tr>\n",
       "    <tr>\n",
       "      <td>std</td>\n",
       "      <td>12116.094936</td>\n",
       "      <td>3.442656</td>\n",
       "      <td>5.970552e+04</td>\n",
       "      <td>2.038772e+05</td>\n",
       "    </tr>\n",
       "    <tr>\n",
       "      <td>min</td>\n",
       "      <td>0.000000</td>\n",
       "      <td>1973.000000</td>\n",
       "      <td>0.000000e+00</td>\n",
       "      <td>1.593488e+08</td>\n",
       "    </tr>\n",
       "    <tr>\n",
       "      <td>25%</td>\n",
       "      <td>10200.000000</td>\n",
       "      <td>2016.000000</td>\n",
       "      <td>2.146650e+04</td>\n",
       "      <td>1.676253e+08</td>\n",
       "    </tr>\n",
       "    <tr>\n",
       "      <td>50%</td>\n",
       "      <td>16900.000000</td>\n",
       "      <td>2018.000000</td>\n",
       "      <td>3.536500e+04</td>\n",
       "      <td>1.677451e+08</td>\n",
       "    </tr>\n",
       "    <tr>\n",
       "      <td>75%</td>\n",
       "      <td>25555.500000</td>\n",
       "      <td>2019.000000</td>\n",
       "      <td>6.347250e+04</td>\n",
       "      <td>1.677798e+08</td>\n",
       "    </tr>\n",
       "    <tr>\n",
       "      <td>max</td>\n",
       "      <td>84900.000000</td>\n",
       "      <td>2020.000000</td>\n",
       "      <td>1.017936e+06</td>\n",
       "      <td>1.678055e+08</td>\n",
       "    </tr>\n",
       "  </tbody>\n",
       "</table>\n",
       "</div>"
      ],
      "text/plain": [
       "              price         year       mileage           lot\n",
       "count   2499.000000  2499.000000  2.499000e+03  2.499000e+03\n",
       "mean   18767.671469  2016.714286  5.229869e+04  1.676914e+08\n",
       "std    12116.094936     3.442656  5.970552e+04  2.038772e+05\n",
       "min        0.000000  1973.000000  0.000000e+00  1.593488e+08\n",
       "25%    10200.000000  2016.000000  2.146650e+04  1.676253e+08\n",
       "50%    16900.000000  2018.000000  3.536500e+04  1.677451e+08\n",
       "75%    25555.500000  2019.000000  6.347250e+04  1.677798e+08\n",
       "max    84900.000000  2020.000000  1.017936e+06  1.678055e+08"
      ]
     },
     "execution_count": 9,
     "metadata": {},
     "output_type": "execute_result"
    }
   ],
   "source": [
    "df.describe()"
   ]
  },
  {
   "cell_type": "markdown",
   "metadata": {},
   "source": [
    "As shown above, the countery feature has 99% of repetitive value and genuinely uninformative, also it has 7 values of ' canda' that is not irrelevant to our study, so we deciede to toss this feauture out."
   ]
  },
  {
   "cell_type": "code",
   "execution_count": 10,
   "metadata": {},
   "outputs": [
    {
     "data": {
      "text/html": [
       "<div>\n",
       "<style scoped>\n",
       "    .dataframe tbody tr th:only-of-type {\n",
       "        vertical-align: middle;\n",
       "    }\n",
       "\n",
       "    .dataframe tbody tr th {\n",
       "        vertical-align: top;\n",
       "    }\n",
       "\n",
       "    .dataframe thead th {\n",
       "        text-align: right;\n",
       "    }\n",
       "</style>\n",
       "<table border=\"1\" class=\"dataframe\">\n",
       "  <thead>\n",
       "    <tr style=\"text-align: right;\">\n",
       "      <th></th>\n",
       "      <th>price</th>\n",
       "      <th>brand</th>\n",
       "      <th>model</th>\n",
       "      <th>year</th>\n",
       "      <th>title_status</th>\n",
       "      <th>mileage</th>\n",
       "      <th>color</th>\n",
       "      <th>lot</th>\n",
       "      <th>state</th>\n",
       "    </tr>\n",
       "  </thead>\n",
       "  <tbody>\n",
       "    <tr>\n",
       "      <td>0</td>\n",
       "      <td>6300</td>\n",
       "      <td>toyota</td>\n",
       "      <td>cruiser</td>\n",
       "      <td>2008</td>\n",
       "      <td>clean vehicle</td>\n",
       "      <td>274117.0</td>\n",
       "      <td>black</td>\n",
       "      <td>159348797</td>\n",
       "      <td>new jersey</td>\n",
       "    </tr>\n",
       "    <tr>\n",
       "      <td>1</td>\n",
       "      <td>2899</td>\n",
       "      <td>ford</td>\n",
       "      <td>se</td>\n",
       "      <td>2011</td>\n",
       "      <td>clean vehicle</td>\n",
       "      <td>190552.0</td>\n",
       "      <td>silver</td>\n",
       "      <td>166951262</td>\n",
       "      <td>tennessee</td>\n",
       "    </tr>\n",
       "  </tbody>\n",
       "</table>\n",
       "</div>"
      ],
      "text/plain": [
       "   price   brand    model  year   title_status   mileage   color        lot  \\\n",
       "0   6300  toyota  cruiser  2008  clean vehicle  274117.0   black  159348797   \n",
       "1   2899    ford       se  2011  clean vehicle  190552.0  silver  166951262   \n",
       "\n",
       "        state  \n",
       "0  new jersey  \n",
       "1   tennessee  "
      ]
     },
     "execution_count": 10,
     "metadata": {},
     "output_type": "execute_result"
    }
   ],
   "source": [
    "df.head(2)"
   ]
  },
  {
   "cell_type": "markdown",
   "metadata": {},
   "source": [
    "#### In this case study our targert is Price and it is importantent to get some insight about it \n"
   ]
  },
  {
   "cell_type": "code",
   "execution_count": 11,
   "metadata": {},
   "outputs": [
    {
     "name": "stdout",
     "output_type": "stream",
     "text": [
      "18767.671468587436\n",
      "16900.0\n"
     ]
    }
   ],
   "source": [
    "print(df.price.mean())\n",
    "print(df.price.median())"
   ]
  },
  {
   "cell_type": "markdown",
   "metadata": {},
   "source": [
    "\n",
    "The distrbaution of price indicates there are no outliers or extreme values in mean or median. Mean is still higher than median but the difference is not extreme.<br>\n",
    "\n",
    "Also, we can use a histogram to detect outlier of price in generl"
   ]
  },
  {
   "cell_type": "code",
   "execution_count": 12,
   "metadata": {},
   "outputs": [
    {
     "data": {
      "text/plain": [
       "<matplotlib.axes._subplots.AxesSubplot at 0x1a1701b750>"
      ]
     },
     "execution_count": 12,
     "metadata": {},
     "output_type": "execute_result"
    },
    {
     "data": {
      "image/png": "[encoded data removed]",
      "text/plain": [
       "<Figure size 432x288 with 1 Axes>"
      ]
     },
     "metadata": {
      "needs_background": "light"
     },
     "output_type": "display_data"
    }
   ],
   "source": [
    "df['price'].hist(bins=100)"
   ]
  },
  {
   "cell_type": "markdown",
   "metadata": {},
   "source": [
    "The data looks few skewed with the possible existence of outliers.\n",
    "Zero values obviously not good for our exploring. So we determine to drop all rows which has price value less than or equal $200 by passing indexes of the values to be dropped."
   ]
  },
  {
   "cell_type": "code",
   "execution_count": 13,
   "metadata": {},
   "outputs": [
    {
     "data": {
      "text/html": [
       "<div>\n",
       "<style scoped>\n",
       "    .dataframe tbody tr th:only-of-type {\n",
       "        vertical-align: middle;\n",
       "    }\n",
       "\n",
       "    .dataframe tbody tr th {\n",
       "        vertical-align: top;\n",
       "    }\n",
       "\n",
       "    .dataframe thead th {\n",
       "        text-align: right;\n",
       "    }\n",
       "</style>\n",
       "<table border=\"1\" class=\"dataframe\">\n",
       "  <thead>\n",
       "    <tr style=\"text-align: right;\">\n",
       "      <th></th>\n",
       "      <th>price</th>\n",
       "      <th>brand</th>\n",
       "      <th>model</th>\n",
       "      <th>year</th>\n",
       "      <th>title_status</th>\n",
       "      <th>mileage</th>\n",
       "      <th>color</th>\n",
       "      <th>lot</th>\n",
       "      <th>state</th>\n",
       "    </tr>\n",
       "  </thead>\n",
       "  <tbody>\n",
       "    <tr>\n",
       "      <td>335</td>\n",
       "      <td>225</td>\n",
       "      <td>chevrolet</td>\n",
       "      <td>door</td>\n",
       "      <td>2014</td>\n",
       "      <td>salvage insurance</td>\n",
       "      <td>87673.0</td>\n",
       "      <td>red</td>\n",
       "      <td>167650668</td>\n",
       "      <td>colorado</td>\n",
       "    </tr>\n",
       "  </tbody>\n",
       "</table>\n",
       "</div>"
      ],
      "text/plain": [
       "     price      brand model  year       title_status  mileage color  \\\n",
       "335    225  chevrolet  door  2014  salvage insurance  87673.0   red   \n",
       "\n",
       "           lot     state  \n",
       "335  167650668  colorado  "
      ]
     },
     "execution_count": 13,
     "metadata": {},
     "output_type": "execute_result"
    }
   ],
   "source": [
    "# Get names of indexes for which column price has value less than $ 200\n",
    "indexNames = df[ df['price'] <= 200 ].index\n",
    " \n",
    "# Delete these row indexes from dataFrame\n",
    "df.drop(indexNames , inplace=True)\n",
    "df[df['price']==df['price'].min()]"
   ]
  },
  {
   "cell_type": "markdown",
   "metadata": {},
   "source": [
    "The age of the car definitely effects the prices and we think it will be more useful instead of the model year of the car, it makes more sense to use it as age. So we substituted ‘year’ column from current year 2020."
   ]
  },
  {
   "cell_type": "code",
   "execution_count": 14,
   "metadata": {},
   "outputs": [
    {
     "data": {
      "text/html": [
       "<div>\n",
       "<style scoped>\n",
       "    .dataframe tbody tr th:only-of-type {\n",
       "        vertical-align: middle;\n",
       "    }\n",
       "\n",
       "    .dataframe tbody tr th {\n",
       "        vertical-align: top;\n",
       "    }\n",
       "\n",
       "    .dataframe thead th {\n",
       "        text-align: right;\n",
       "    }\n",
       "</style>\n",
       "<table border=\"1\" class=\"dataframe\">\n",
       "  <thead>\n",
       "    <tr style=\"text-align: right;\">\n",
       "      <th></th>\n",
       "      <th>price</th>\n",
       "      <th>brand</th>\n",
       "      <th>model</th>\n",
       "      <th>year</th>\n",
       "      <th>title_status</th>\n",
       "      <th>mileage</th>\n",
       "      <th>color</th>\n",
       "      <th>lot</th>\n",
       "      <th>state</th>\n",
       "      <th>age</th>\n",
       "    </tr>\n",
       "  </thead>\n",
       "  <tbody>\n",
       "    <tr>\n",
       "      <td>0</td>\n",
       "      <td>6300</td>\n",
       "      <td>toyota</td>\n",
       "      <td>cruiser</td>\n",
       "      <td>2008</td>\n",
       "      <td>clean vehicle</td>\n",
       "      <td>274117.0</td>\n",
       "      <td>black</td>\n",
       "      <td>159348797</td>\n",
       "      <td>new jersey</td>\n",
       "      <td>12</td>\n",
       "    </tr>\n",
       "    <tr>\n",
       "      <td>1</td>\n",
       "      <td>2899</td>\n",
       "      <td>ford</td>\n",
       "      <td>se</td>\n",
       "      <td>2011</td>\n",
       "      <td>clean vehicle</td>\n",
       "      <td>190552.0</td>\n",
       "      <td>silver</td>\n",
       "      <td>166951262</td>\n",
       "      <td>tennessee</td>\n",
       "      <td>9</td>\n",
       "    </tr>\n",
       "  </tbody>\n",
       "</table>\n",
       "</div>"
      ],
      "text/plain": [
       "   price   brand    model  year   title_status   mileage   color        lot  \\\n",
       "0   6300  toyota  cruiser  2008  clean vehicle  274117.0   black  159348797   \n",
       "1   2899    ford       se  2011  clean vehicle  190552.0  silver  166951262   \n",
       "\n",
       "        state  age  \n",
       "0  new jersey   12  \n",
       "1   tennessee    9  "
      ]
     },
     "execution_count": 14,
     "metadata": {},
     "output_type": "execute_result"
    }
   ],
   "source": [
    "#Add new column express the age of the car\n",
    "df['age'] = 2020 - df['year']\n",
    "df.head(2)"
   ]
  },
  {
   "cell_type": "markdown",
   "metadata": {},
   "source": [
    "### Cleaning Data Summary\n",
    "\n",
    "- Drop unnecessary columns\n",
    "- Drop column with repetitive values.\n",
    "- Drop values that less then $200 in price column.\n",
    "- Add age of car column"
   ]
  },
  {
   "cell_type": "markdown",
   "metadata": {},
   "source": [
    "# Data Wrangling and visualization\n",
    "### Exploratory Data Analysis\n",
    "\n",
    "- Distribution of price vs. the Year of Registration. \n",
    "- Distribution of price vs. different mileage levels.\n",
    "- Find the other properties that are associated with price.\n",
    "- General observations.\n",
    "\n"
   ]
  },
  {
   "cell_type": "markdown",
   "metadata": {},
   "source": [
    "##  Distribution of Price vs.  the Year of Registration\n",
    "\n",
    "Frist lets take a look of  year distrbuation"
   ]
  },
  {
   "cell_type": "code",
   "execution_count": 15,
   "metadata": {},
   "outputs": [
    {
     "data": {
      "text/plain": [
       "Text(0.5, 1.0, 'Frequency Distribution Plot of Year')"
      ]
     },
     "execution_count": 15,
     "metadata": {},
     "output_type": "execute_result"
    },
    {
     "data": {
      "image/png": "[encoded data removed]",
      "text/plain": [
       "<Figure size 720x432 with 1 Axes>"
      ]
     },
     "metadata": {
      "needs_background": "light"
     },
     "output_type": "display_data"
    }
   ],
   "source": [
    "x = df.year\n",
    "plt.figure(figsize=(10,6))\n",
    "sns.distplot(x).set_title('Frequency Distribution Plot of Year')"
   ]
  },
  {
   "cell_type": "markdown",
   "metadata": {},
   "source": [
    "It can be seen from the graph there are many outliers. Data is left-skewed. To get better accuracy, we also drop all cars that manufactured before 2000\n",
    "\n",
    "After that we plot boxplot to show how the price can changes with a year of registration. "
   ]
  },
  {
   "cell_type": "code",
   "execution_count": 16,
   "metadata": {},
   "outputs": [],
   "source": [
    "#drop all cars that regestration before 2000\n",
    "\n",
    "indexNames_2 = df[ df['year'] < 2000 ].index\n",
    "df.drop(indexNames_2 , inplace=True)\n"
   ]
  },
  {
   "cell_type": "code",
   "execution_count": 17,
   "metadata": {},
   "outputs": [
    {
     "data": {
      "image/png": "[encoded data removed]",
      "text/plain": [
       "<Figure size 1440x360 with 1 Axes>"
      ]
     },
     "metadata": {
      "needs_background": "light"
     },
     "output_type": "display_data"
    }
   ],
   "source": [
    "# plot chart to show the relation bwteen the year and price\n",
    "\n",
    "plt.figure(figsize=(20,5))\n",
    "sns.boxplot(x=\"year\", y=\"price\", data = df)\n",
    "plt.title(\"Price of cars vs. manufacturing year\")\n",
    "plt.ylabel(\"Price \")\n",
    "plt.show()"
   ]
  },
  {
   "cell_type": "raw",
   "metadata": {},
   "source": [
    " It can be observed that the car’s year of regestration has a significant impact on its price. The lowest prices have cars regestration in 2001 and 2002 and the highest after 2015 <br>\n",
    "\n",
    "By using the age column we are created before, we can divided the age of cars into tow main categories: classic,  and modern cars.\n",
    "\n",
    "\n",
    "- The first group are modern cars that are younger than 10 years old and it means regestration after 2010.\n",
    "- Second group are classic cars that cars more than 10 years and less than 20"
   ]
  },
  {
   "cell_type": "code",
   "execution_count": 18,
   "metadata": {},
   "outputs": [
    {
     "data": {
      "text/html": [
       "<div>\n",
       "<style scoped>\n",
       "    .dataframe tbody tr th:only-of-type {\n",
       "        vertical-align: middle;\n",
       "    }\n",
       "\n",
       "    .dataframe tbody tr th {\n",
       "        vertical-align: top;\n",
       "    }\n",
       "\n",
       "    .dataframe thead th {\n",
       "        text-align: right;\n",
       "    }\n",
       "</style>\n",
       "<table border=\"1\" class=\"dataframe\">\n",
       "  <thead>\n",
       "    <tr style=\"text-align: right;\">\n",
       "      <th></th>\n",
       "      <th>price</th>\n",
       "      <th>brand</th>\n",
       "      <th>model</th>\n",
       "      <th>year</th>\n",
       "      <th>title_status</th>\n",
       "      <th>mileage</th>\n",
       "      <th>color</th>\n",
       "      <th>lot</th>\n",
       "      <th>state</th>\n",
       "      <th>age</th>\n",
       "      <th>Car_Classification</th>\n",
       "    </tr>\n",
       "  </thead>\n",
       "  <tbody>\n",
       "    <tr>\n",
       "      <td>0</td>\n",
       "      <td>6300</td>\n",
       "      <td>toyota</td>\n",
       "      <td>cruiser</td>\n",
       "      <td>2008</td>\n",
       "      <td>clean vehicle</td>\n",
       "      <td>274117.0</td>\n",
       "      <td>black</td>\n",
       "      <td>159348797</td>\n",
       "      <td>new jersey</td>\n",
       "      <td>12</td>\n",
       "      <td>classic</td>\n",
       "    </tr>\n",
       "    <tr>\n",
       "      <td>1</td>\n",
       "      <td>2899</td>\n",
       "      <td>ford</td>\n",
       "      <td>se</td>\n",
       "      <td>2011</td>\n",
       "      <td>clean vehicle</td>\n",
       "      <td>190552.0</td>\n",
       "      <td>silver</td>\n",
       "      <td>166951262</td>\n",
       "      <td>tennessee</td>\n",
       "      <td>9</td>\n",
       "      <td>Modren</td>\n",
       "    </tr>\n",
       "    <tr>\n",
       "      <td>2</td>\n",
       "      <td>5350</td>\n",
       "      <td>dodge</td>\n",
       "      <td>mpv</td>\n",
       "      <td>2018</td>\n",
       "      <td>clean vehicle</td>\n",
       "      <td>39590.0</td>\n",
       "      <td>silver</td>\n",
       "      <td>167655728</td>\n",
       "      <td>georgia</td>\n",
       "      <td>2</td>\n",
       "      <td>Modren</td>\n",
       "    </tr>\n",
       "  </tbody>\n",
       "</table>\n",
       "</div>"
      ],
      "text/plain": [
       "   price   brand    model  year   title_status   mileage   color        lot  \\\n",
       "0   6300  toyota  cruiser  2008  clean vehicle  274117.0   black  159348797   \n",
       "1   2899    ford       se  2011  clean vehicle  190552.0  silver  166951262   \n",
       "2   5350   dodge      mpv  2018  clean vehicle   39590.0  silver  167655728   \n",
       "\n",
       "        state  age Car_Classification  \n",
       "0  new jersey   12            classic  \n",
       "1   tennessee    9             Modren  \n",
       "2     georgia    2             Modren  "
      ]
     },
     "execution_count": 18,
     "metadata": {},
     "output_type": "execute_result"
    }
   ],
   "source": [
    "\n",
    "bins= [0,10,20]\n",
    "labels = ['Modren','classic']\n",
    "df['Car_Classification'] = pd.cut(df['age'], bins=bins, labels=labels, right=False)\n",
    "df.head(3)"
   ]
  },
  {
   "cell_type": "code",
   "execution_count": 19,
   "metadata": {},
   "outputs": [
    {
     "data": {
      "image/png": "[encoded data removed]",
      "text/plain": [
       "<Figure size 432x288 with 1 Axes>"
      ]
     },
     "metadata": {
      "needs_background": "light"
     },
     "output_type": "display_data"
    }
   ],
   "source": [
    "df.groupby('Car_Classification')['price'].mean().plot(kind='bar')\n",
    "plt.show()"
   ]
  },
  {
   "cell_type": "markdown",
   "metadata": {},
   "source": [
    "Using these criteria above on the graph , we can easily observe that most offers cars in auction are modern and also the most expensive value too, and For classic cars there are small sample and it less expensive than modren."
   ]
  },
  {
   "cell_type": "markdown",
   "metadata": {},
   "source": [
    "## Distribution of Price vs. Different Mileage Levels"
   ]
  },
  {
   "cell_type": "markdown",
   "metadata": {},
   "source": [
    "Mileage value shows how much the car has been driven, so it is definitely an important factor determining the price, because mileage is one of the most important pieces of information when it comes to the car auction .<br>\n",
    "The relationship between mileage and price which we think is highly correlated.<br>\n",
    "\n",
    "This leads us to find out the distribution of price in terms of different mileage levels. Due to the mileage data has a large range of number and for more specific that, we decide to divide the mileage status level into 3 categories (low -medium-high)\n"
   ]
  },
  {
   "cell_type": "code",
   "execution_count": 20,
   "metadata": {},
   "outputs": [],
   "source": [
    "\n",
    "def cut_into_level(dfname ,column_name):\n",
    "    min_value = dfname[column_name].min()\n",
    "    first_value = dfname[column_name].describe()[4]\n",
    "    second_value = dfname[column_name].describe()[5]\n",
    "    max_value = dfname[column_name].max()\n",
    "    \n",
    "# Bin edges that will be used to \"cut\" the data into groups\n",
    "    bin_edges = [ min_value, first_value, second_value, max_value]\n",
    "# Labels for the four three level groups of Mileage Status.\n",
    "    bin_names = [ 'low', 'medium', 'high'] \n",
    "# Creates budget_levels column\n",
    "    name = '{}_levels'.format(column_name)\n",
    "    dfname[name] = pd.cut(dfname[column_name], bin_edges, labels=bin_names, include_lowest = True)\n",
    "    return dfname"
   ]
  },
  {
   "cell_type": "markdown",
   "metadata": {},
   "source": [
    "\n",
    "\n",
    "Now we filterd data frame with recent five years and then applied the function"
   ]
  },
  {
   "cell_type": "code",
   "execution_count": 21,
   "metadata": {},
   "outputs": [
    {
     "name": "stderr",
     "output_type": "stream",
     "text": [
      "/Users/yazeed/opt/anaconda3/lib/python3.7/site-packages/ipykernel_launcher.py:13: SettingWithCopyWarning: \n",
      "A value is trying to be set on a copy of a slice from a DataFrame.\n",
      "Try using .loc[row_indexer,col_indexer] = value instead\n",
      "\n",
      "See the caveats in the documentation: http://pandas.pydata.org/pandas-docs/stable/user_guide/indexing.html#returning-a-view-versus-a-copy\n",
      "  del sys.path[0]\n"
     ]
    }
   ],
   "source": [
    "#choose the recent five years \n",
    "dfyear =[2016,2017,2018,2019,2020]\n",
    "#creat a empty dataframe,df_q2\n",
    "new_df = pd.DataFrame()\n",
    "\n",
    "#for each year, do the following procedure\n",
    "for year in dfyear:\n",
    "    dfn = df.query('year == \"%s\"' % year) \n",
    "    dfn2 = cut_into_level(dfn,'mileage')\n",
    "    new_df = new_df.append(dfn2) #append dfn2 to df_q2\n",
    "  "
   ]
  },
  {
   "cell_type": "markdown",
   "metadata": {},
   "source": [
    "Here we grouped the data frame new_df with each mileage levels in each year"
   ]
  },
  {
   "cell_type": "code",
   "execution_count": 22,
   "metadata": {},
   "outputs": [
    {
     "data": {
      "text/html": [
       "<div>\n",
       "<style scoped>\n",
       "    .dataframe tbody tr th:only-of-type {\n",
       "        vertical-align: middle;\n",
       "    }\n",
       "\n",
       "    .dataframe tbody tr th {\n",
       "        vertical-align: top;\n",
       "    }\n",
       "\n",
       "    .dataframe thead th {\n",
       "        text-align: right;\n",
       "    }\n",
       "</style>\n",
       "<table border=\"1\" class=\"dataframe\">\n",
       "  <thead>\n",
       "    <tr style=\"text-align: right;\">\n",
       "      <th></th>\n",
       "      <th></th>\n",
       "      <th>mileage</th>\n",
       "      <th>price</th>\n",
       "      <th>lot</th>\n",
       "      <th>age</th>\n",
       "    </tr>\n",
       "    <tr>\n",
       "      <th>year</th>\n",
       "      <th>mileage_levels</th>\n",
       "      <th></th>\n",
       "      <th></th>\n",
       "      <th></th>\n",
       "      <th></th>\n",
       "    </tr>\n",
       "  </thead>\n",
       "  <tbody>\n",
       "    <tr>\n",
       "      <td rowspan=\"3\" valign=\"top\">2018</td>\n",
       "      <td>low</td>\n",
       "      <td>14750.0</td>\n",
       "      <td>26000.0</td>\n",
       "      <td>167749173.0</td>\n",
       "      <td>2.0</td>\n",
       "    </tr>\n",
       "    <tr>\n",
       "      <td>medium</td>\n",
       "      <td>33048.0</td>\n",
       "      <td>16500.0</td>\n",
       "      <td>167749268.0</td>\n",
       "      <td>2.0</td>\n",
       "    </tr>\n",
       "    <tr>\n",
       "      <td>high</td>\n",
       "      <td>42250.0</td>\n",
       "      <td>13900.0</td>\n",
       "      <td>167749248.0</td>\n",
       "      <td>2.0</td>\n",
       "    </tr>\n",
       "    <tr>\n",
       "      <td rowspan=\"3\" valign=\"top\">2019</td>\n",
       "      <td>low</td>\n",
       "      <td>11437.0</td>\n",
       "      <td>23600.0</td>\n",
       "      <td>167745054.0</td>\n",
       "      <td>1.0</td>\n",
       "    </tr>\n",
       "    <tr>\n",
       "      <td>medium</td>\n",
       "      <td>18856.0</td>\n",
       "      <td>25000.0</td>\n",
       "      <td>167744937.0</td>\n",
       "      <td>1.0</td>\n",
       "    </tr>\n",
       "    <tr>\n",
       "      <td>high</td>\n",
       "      <td>31713.0</td>\n",
       "      <td>17800.0</td>\n",
       "      <td>167751694.5</td>\n",
       "      <td>1.0</td>\n",
       "    </tr>\n",
       "    <tr>\n",
       "      <td rowspan=\"3\" valign=\"top\">2020</td>\n",
       "      <td>low</td>\n",
       "      <td>928.5</td>\n",
       "      <td>24300.0</td>\n",
       "      <td>167750448.0</td>\n",
       "      <td>0.0</td>\n",
       "    </tr>\n",
       "    <tr>\n",
       "      <td>medium</td>\n",
       "      <td>10334.0</td>\n",
       "      <td>19200.0</td>\n",
       "      <td>167722321.0</td>\n",
       "      <td>0.0</td>\n",
       "    </tr>\n",
       "    <tr>\n",
       "      <td>high</td>\n",
       "      <td>15160.0</td>\n",
       "      <td>19800.0</td>\n",
       "      <td>167725016.0</td>\n",
       "      <td>0.0</td>\n",
       "    </tr>\n",
       "  </tbody>\n",
       "</table>\n",
       "</div>"
      ],
      "text/plain": [
       "                     mileage    price          lot  age\n",
       "year mileage_levels                                    \n",
       "2018 low             14750.0  26000.0  167749173.0  2.0\n",
       "     medium          33048.0  16500.0  167749268.0  2.0\n",
       "     high            42250.0  13900.0  167749248.0  2.0\n",
       "2019 low             11437.0  23600.0  167745054.0  1.0\n",
       "     medium          18856.0  25000.0  167744937.0  1.0\n",
       "     high            31713.0  17800.0  167751694.5  1.0\n",
       "2020 low               928.5  24300.0  167750448.0  0.0\n",
       "     medium          10334.0  19200.0  167722321.0  0.0\n",
       "     high            15160.0  19800.0  167725016.0  0.0"
      ]
     },
     "execution_count": 22,
     "metadata": {},
     "output_type": "execute_result"
    }
   ],
   "source": [
    "new_df_summary = new_df.groupby(['year','mileage_levels']).median()\n",
    "cols = new_df_summary.columns.tolist()\n",
    "#move the column \n",
    "cols.insert(0, cols.pop(cols.index('mileage')))\n",
    "new_df_summary = new_df_summary.reindex(columns= cols)\n",
    "new_df_summary.tail(9)"
   ]
  },
  {
   "cell_type": "code",
   "execution_count": 23,
   "metadata": {},
   "outputs": [
    {
     "name": "stdout",
     "output_type": "stream",
     "text": [
      "                  price                  \n",
      "mileage_levels      low   medium     high\n",
      "year                                     \n",
      "2016            21500.0  18600.0  13270.0\n",
      "2017            24205.5  13250.0  13600.0\n",
      "2018            26000.0  16500.0  13900.0\n",
      "2019            23600.0  25000.0  17800.0\n",
      "2020            24300.0  19200.0  19800.0\n"
     ]
    },
    {
     "data": {
      "text/plain": [
       "<matplotlib.axes._subplots.AxesSubplot at 0x1a18b8e0d0>"
      ]
     },
     "execution_count": 23,
     "metadata": {},
     "output_type": "execute_result"
    },
    {
     "data": {
      "image/png": "[encoded data removed]",
      "text/plain": [
       "<Figure size 432x288 with 1 Axes>"
      ]
     },
     "metadata": {
      "needs_background": "light"
     },
     "output_type": "display_data"
    }
   ],
   "source": [
    "new_df_summary_pop = new_df_summary[['price']].unstack()\n",
    "print(new_df_summary_pop)\n",
    "new_df_summary_pop.plot.bar()"
   ]
  },
  {
   "cell_type": "markdown",
   "metadata": {},
   "source": [
    "In the bar chart above is clearly seen the Reverse relations between the mileage levels and the price. and the the highest price associated with low mileage was with registration year of 2018.\n",
    "\n",
    "So according to the result, we infer that a high price car is always with a low mileage car<br>\n",
    "Now let's see the relation in general by applying the regression plot."
   ]
  },
  {
   "cell_type": "code",
   "execution_count": 24,
   "metadata": {},
   "outputs": [
    {
     "data": {
      "text/plain": [
       "Text(0.5, 1.0, 'mileage vs Price')"
      ]
     },
     "execution_count": 24,
     "metadata": {},
     "output_type": "execute_result"
    },
    {
     "data": {
      "image/png": "[encoded data removed]",
      "text/plain": [
       "<Figure size 720x432 with 1 Axes>"
      ]
     },
     "metadata": {
      "needs_background": "light"
     },
     "output_type": "display_data"
    }
   ],
   "source": [
    "plt.figure(figsize=(10,6))\n",
    "sns.regplot(x='mileage', y='price', data=new_df_summary).set_title('mileage vs Price')"
   ]
  },
  {
   "cell_type": "markdown",
   "metadata": {},
   "source": [
    "It is clearly seen the corrleation as the miileage goes up, the price goes down."
   ]
  },
  {
   "cell_type": "markdown",
   "metadata": {},
   "source": [
    "## Find the factors that are associated with price\n",
    "###  Car Title Status"
   ]
  },
  {
   "cell_type": "markdown",
   "metadata": {},
   "source": [
    "Something that can be important to overlook when you buy for a used car is the status of the title\n",
    "\n",
    "so, lets take an overview of car title in the acution and we use a pie chart to detect the percentage"
   ]
  },
  {
   "cell_type": "code",
   "execution_count": 25,
   "metadata": {},
   "outputs": [
    {
     "data": {
      "image/png": "[encoded data removed]",
      "text/plain": [
       "<Figure size 1080x1080 with 1 Axes>"
      ]
     },
     "metadata": {},
     "output_type": "display_data"
    }
   ],
   "source": [
    "pie = ['title_status']\n",
    "\n",
    "fig = plt.figure(figsize = (15,15))\n",
    "axes = 220\n",
    "for p in pie:\n",
    "    axes += 1\n",
    "    fig.add_subplot(axes)\n",
    "    plt.pie(df[p].value_counts(), labels=df[p].unique(),autopct='%1.1f%%', shadow=True, startangle=45);\n",
    "    plt.title(p.upper())\n",
    "plt.show()"
   ]
  },
  {
   "cell_type": "markdown",
   "metadata": {},
   "source": [
    "The pie cahrt above show the most car in the auction is clean title with 96% and \n",
    "we believe that a salvage insurance has a permanent negative effect on the value\n",
    "and it's decreases a vehicle's value sometime up to 50% </br>\n",
    "\n",
    "To detect the correlation we use a bar chart "
   ]
  },
  {
   "cell_type": "code",
   "execution_count": 26,
   "metadata": {},
   "outputs": [
    {
     "data": {
      "image/png": "[encoded data removed]",
      "text/plain": [
       "<Figure size 432x288 with 1 Axes>"
      ]
     },
     "metadata": {
      "needs_background": "light"
     },
     "output_type": "display_data"
    }
   ],
   "source": [
    "df.groupby('title_status')['price'].mean().plot(kind='bar')\n",
    "plt.show()"
   ]
  },
  {
   "cell_type": "markdown",
   "metadata": {},
   "source": [
    "### Cars location"
   ]
  },
  {
   "cell_type": "code",
   "execution_count": 27,
   "metadata": {},
   "outputs": [
    {
     "name": "stdout",
     "output_type": "stream",
     "text": [
      "number of state 43\n",
      "count           1644.000000\n",
      "persentage %      65.786315\n",
      "dtype: float64\n"
     ]
    },
    {
     "data": {
      "text/html": [
       "<div>\n",
       "<style scoped>\n",
       "    .dataframe tbody tr th:only-of-type {\n",
       "        vertical-align: middle;\n",
       "    }\n",
       "\n",
       "    .dataframe tbody tr th {\n",
       "        vertical-align: top;\n",
       "    }\n",
       "\n",
       "    .dataframe thead th {\n",
       "        text-align: right;\n",
       "    }\n",
       "</style>\n",
       "<table border=\"1\" class=\"dataframe\">\n",
       "  <thead>\n",
       "    <tr style=\"text-align: right;\">\n",
       "      <th></th>\n",
       "      <th>count</th>\n",
       "      <th>persentage %</th>\n",
       "    </tr>\n",
       "  </thead>\n",
       "  <tbody>\n",
       "    <tr>\n",
       "      <td>pennsylvania</td>\n",
       "      <td>297</td>\n",
       "      <td>11.884754</td>\n",
       "    </tr>\n",
       "    <tr>\n",
       "      <td>florida</td>\n",
       "      <td>243</td>\n",
       "      <td>9.723890</td>\n",
       "    </tr>\n",
       "    <tr>\n",
       "      <td>texas</td>\n",
       "      <td>205</td>\n",
       "      <td>8.203281</td>\n",
       "    </tr>\n",
       "    <tr>\n",
       "      <td>california</td>\n",
       "      <td>184</td>\n",
       "      <td>7.362945</td>\n",
       "    </tr>\n",
       "    <tr>\n",
       "      <td>michigan</td>\n",
       "      <td>166</td>\n",
       "      <td>6.642657</td>\n",
       "    </tr>\n",
       "    <tr>\n",
       "      <td>north carolina</td>\n",
       "      <td>145</td>\n",
       "      <td>5.802321</td>\n",
       "    </tr>\n",
       "    <tr>\n",
       "      <td>minnesota</td>\n",
       "      <td>115</td>\n",
       "      <td>4.601841</td>\n",
       "    </tr>\n",
       "    <tr>\n",
       "      <td>illinois</td>\n",
       "      <td>109</td>\n",
       "      <td>4.361745</td>\n",
       "    </tr>\n",
       "    <tr>\n",
       "      <td>wisconsin</td>\n",
       "      <td>93</td>\n",
       "      <td>3.721489</td>\n",
       "    </tr>\n",
       "    <tr>\n",
       "      <td>new jersey</td>\n",
       "      <td>87</td>\n",
       "      <td>3.481393</td>\n",
       "    </tr>\n",
       "  </tbody>\n",
       "</table>\n",
       "</div>"
      ],
      "text/plain": [
       "                count  persentage %\n",
       "pennsylvania      297     11.884754\n",
       "florida           243      9.723890\n",
       "texas             205      8.203281\n",
       "california        184      7.362945\n",
       "michigan          166      6.642657\n",
       "north carolina    145      5.802321\n",
       "minnesota         115      4.601841\n",
       "illinois          109      4.361745\n",
       "wisconsin          93      3.721489\n",
       "new jersey         87      3.481393"
      ]
     },
     "execution_count": 27,
     "metadata": {},
     "output_type": "execute_result"
    }
   ],
   "source": [
    "print('number of state',df.state.nunique())\n",
    "\n",
    "a = df.state.value_counts() [:10]\n",
    "df_location = pd.DataFrame({\"count\": a , \"persentage %\": (a/2499)*100})\n",
    "print (df_location.sum())\n",
    "df_location"
   ]
  },
  {
   "cell_type": "markdown",
   "metadata": {},
   "source": [
    "There are 43 different cities but 65% of all cars are listed in top 10 cities with pennsylvania having 11% of all cars.\n",
    "Now let's see the average price distribution based on each state"
   ]
  },
  {
   "cell_type": "code",
   "execution_count": 28,
   "metadata": {},
   "outputs": [
    {
     "data": {
      "image/png": "[encoded data removed]",
      "text/plain": [
       "<Figure size 1296x720 with 1 Axes>"
      ]
     },
     "metadata": {
      "needs_background": "light"
     },
     "output_type": "display_data"
    }
   ],
   "source": [
    "from matplotlib import cm\n",
    "color = cm.inferno_r(np.linspace(.4, .8, 30))\n",
    "plt.figure()\n",
    "an=df.groupby(['state'])['price'].mean().plot(kind='bar',stacked=True, figsize=(18,10), color=color)\n",
    "an.set_xlabel('state')\n",
    "an.set_ylabel('avreage price')\n",
    "an.legend(loc='best')\n",
    "plt.show()"
   ]
  },
  {
   "cell_type": "markdown",
   "metadata": {},
   "source": [
    "The bar chart above showes the corrlation between the price and state, The most expensive cars that are from Kentucky ."
   ]
  },
  {
   "cell_type": "markdown",
   "metadata": {},
   "source": [
    "# General observations"
   ]
  },
  {
   "cell_type": "markdown",
   "metadata": {},
   "source": [
    "## Cars Brand\n",
    "we are limit our results to the five most common values in car brands.\n"
   ]
  },
  {
   "cell_type": "code",
   "execution_count": 29,
   "metadata": {},
   "outputs": [
    {
     "data": {
      "image/png": "[encoded data removed]",
      "text/plain": [
       "<Figure size 1152x576 with 1 Axes>"
      ]
     },
     "metadata": {
      "needs_background": "light"
     },
     "output_type": "display_data"
    }
   ],
   "source": [
    "BrandOfCars = df[\"brand\"].value_counts().div(len(df)).mul(100)\n",
    "brand_top5 = BrandOfCars[:5]\n",
    "\n",
    "plt.figure(figsize=(16,8))\n",
    "sns.barplot(x=brand_top5.index, y=brand_top5.values)\n",
    "plt.title(\"5 most popular brand\")\n",
    "plt.ylabel(\"Percentage of Popularity %\")\n",
    "plt.xticks(rotation=90)\n",
    "plt.show()"
   ]
  },
  {
   "cell_type": "markdown",
   "metadata": {},
   "source": [
    "As we can see the first place was taken by American companies (Ford ) with 49 % and then Dodges with 18 % ,  Nissans 15 %, Chevrolets 14%, and fainally GMCs 4 %.\n",
    "\n",
    "Let’s generate bar chart for price and brand "
   ]
  },
  {
   "cell_type": "code",
   "execution_count": 30,
   "metadata": {},
   "outputs": [
    {
     "data": {
      "text/plain": [
       "<matplotlib.axes._subplots.AxesSubplot at 0x1a18d3f990>"
      ]
     },
     "execution_count": 30,
     "metadata": {},
     "output_type": "execute_result"
    },
    {
     "data": {
      "image/png": "[encoded data removed]",
      "text/plain": [
       "<Figure size 1440x360 with 1 Axes>"
      ]
     },
     "metadata": {
      "needs_background": "light"
     },
     "output_type": "display_data"
    }
   ],
   "source": [
    "plt.figure(figsize=(20,5))\n",
    "df.groupby('brand')['price'].mean().plot(kind='bar')\n"
   ]
  },
  {
   "cell_type": "markdown",
   "metadata": {},
   "source": [
    "Here as shown the most expinsive car is harley davidson for more than 50000 USD and cheapest one is peterbilt with less than 1000 USD"
   ]
  },
  {
   "cell_type": "markdown",
   "metadata": {},
   "source": [
    "## Cars Color"
   ]
  },
  {
   "cell_type": "code",
   "execution_count": 31,
   "metadata": {},
   "outputs": [
    {
     "data": {
      "text/plain": [
       "white     694\n",
       "black     506\n",
       "gray      386\n",
       "silver    293\n",
       "red       185\n",
       "Name: color, dtype: int64"
      ]
     },
     "execution_count": 31,
     "metadata": {},
     "output_type": "execute_result"
    }
   ],
   "source": [
    "color_top5 = df['color'].value_counts().iloc[:5]\n",
    "color_top5\n"
   ]
  },
  {
   "cell_type": "code",
   "execution_count": 32,
   "metadata": {},
   "outputs": [
    {
     "name": "stdout",
     "output_type": "stream",
     "text": [
      "count           2064.000000\n",
      "persentage %      82.593037\n",
      "dtype: float64\n"
     ]
    },
    {
     "data": {
      "text/html": [
       "<div>\n",
       "<style scoped>\n",
       "    .dataframe tbody tr th:only-of-type {\n",
       "        vertical-align: middle;\n",
       "    }\n",
       "\n",
       "    .dataframe tbody tr th {\n",
       "        vertical-align: top;\n",
       "    }\n",
       "\n",
       "    .dataframe thead th {\n",
       "        text-align: right;\n",
       "    }\n",
       "</style>\n",
       "<table border=\"1\" class=\"dataframe\">\n",
       "  <thead>\n",
       "    <tr style=\"text-align: right;\">\n",
       "      <th></th>\n",
       "      <th>count</th>\n",
       "      <th>persentage %</th>\n",
       "    </tr>\n",
       "  </thead>\n",
       "  <tbody>\n",
       "    <tr>\n",
       "      <td>white</td>\n",
       "      <td>694</td>\n",
       "      <td>27.771108</td>\n",
       "    </tr>\n",
       "    <tr>\n",
       "      <td>black</td>\n",
       "      <td>506</td>\n",
       "      <td>20.248099</td>\n",
       "    </tr>\n",
       "    <tr>\n",
       "      <td>gray</td>\n",
       "      <td>386</td>\n",
       "      <td>15.446178</td>\n",
       "    </tr>\n",
       "    <tr>\n",
       "      <td>silver</td>\n",
       "      <td>293</td>\n",
       "      <td>11.724690</td>\n",
       "    </tr>\n",
       "    <tr>\n",
       "      <td>red</td>\n",
       "      <td>185</td>\n",
       "      <td>7.402961</td>\n",
       "    </tr>\n",
       "  </tbody>\n",
       "</table>\n",
       "</div>"
      ],
      "text/plain": [
       "        count  persentage %\n",
       "white     694     27.771108\n",
       "black     506     20.248099\n",
       "gray      386     15.446178\n",
       "silver    293     11.724690\n",
       "red       185      7.402961"
      ]
     },
     "execution_count": 32,
     "metadata": {},
     "output_type": "execute_result"
    }
   ],
   "source": [
    "x = color_top5\n",
    "df_color = pd.DataFrame({\"count\": x , \"persentage %\": (x/2499)*100})\n",
    "print (df_color.sum())\n",
    "df_color"
   ]
  },
  {
   "cell_type": "markdown",
   "metadata": {},
   "source": [
    "It seems like the optimal choice of color is white, 27 % of the cars are white followed by black and gray. Top 5 colors cover 82% of all cars color."
   ]
  },
  {
   "cell_type": "markdown",
   "metadata": {},
   "source": [
    "# Correlation Map:"
   ]
  },
  {
   "cell_type": "markdown",
   "metadata": {},
   "source": [
    "Another way to check relationship between variables is correlation matrix. Pandas corr() function calculates correlation between all numerical variables in our dataset."
   ]
  },
  {
   "cell_type": "code",
   "execution_count": 33,
   "metadata": {},
   "outputs": [
    {
     "data": {
      "text/html": [
       "<div>\n",
       "<style scoped>\n",
       "    .dataframe tbody tr th:only-of-type {\n",
       "        vertical-align: middle;\n",
       "    }\n",
       "\n",
       "    .dataframe tbody tr th {\n",
       "        vertical-align: top;\n",
       "    }\n",
       "\n",
       "    .dataframe thead th {\n",
       "        text-align: right;\n",
       "    }\n",
       "</style>\n",
       "<table border=\"1\" class=\"dataframe\">\n",
       "  <thead>\n",
       "    <tr style=\"text-align: right;\">\n",
       "      <th></th>\n",
       "      <th>price</th>\n",
       "      <th>year</th>\n",
       "      <th>mileage</th>\n",
       "      <th>lot</th>\n",
       "      <th>age</th>\n",
       "    </tr>\n",
       "  </thead>\n",
       "  <tbody>\n",
       "    <tr>\n",
       "      <td>price</td>\n",
       "      <td>1.000000</td>\n",
       "      <td>0.394450</td>\n",
       "      <td>-0.369855</td>\n",
       "      <td>0.125565</td>\n",
       "      <td>-0.394450</td>\n",
       "    </tr>\n",
       "    <tr>\n",
       "      <td>year</td>\n",
       "      <td>0.394450</td>\n",
       "      <td>1.000000</td>\n",
       "      <td>-0.628043</td>\n",
       "      <td>0.095086</td>\n",
       "      <td>-1.000000</td>\n",
       "    </tr>\n",
       "    <tr>\n",
       "      <td>mileage</td>\n",
       "      <td>-0.369855</td>\n",
       "      <td>-0.628043</td>\n",
       "      <td>1.000000</td>\n",
       "      <td>-0.094643</td>\n",
       "      <td>0.628043</td>\n",
       "    </tr>\n",
       "    <tr>\n",
       "      <td>lot</td>\n",
       "      <td>0.125565</td>\n",
       "      <td>0.095086</td>\n",
       "      <td>-0.094643</td>\n",
       "      <td>1.000000</td>\n",
       "      <td>-0.095086</td>\n",
       "    </tr>\n",
       "    <tr>\n",
       "      <td>age</td>\n",
       "      <td>-0.394450</td>\n",
       "      <td>-1.000000</td>\n",
       "      <td>0.628043</td>\n",
       "      <td>-0.095086</td>\n",
       "      <td>1.000000</td>\n",
       "    </tr>\n",
       "  </tbody>\n",
       "</table>\n",
       "</div>"
      ],
      "text/plain": [
       "            price      year   mileage       lot       age\n",
       "price    1.000000  0.394450 -0.369855  0.125565 -0.394450\n",
       "year     0.394450  1.000000 -0.628043  0.095086 -1.000000\n",
       "mileage -0.369855 -0.628043  1.000000 -0.094643  0.628043\n",
       "lot      0.125565  0.095086 -0.094643  1.000000 -0.095086\n",
       "age     -0.394450 -1.000000  0.628043 -0.095086  1.000000"
      ]
     },
     "execution_count": 33,
     "metadata": {},
     "output_type": "execute_result"
    }
   ],
   "source": [
    "df.corr()"
   ]
  },
  {
   "cell_type": "markdown",
   "metadata": {},
   "source": [
    "The closer the value is to 1, the higher the correlation. ‘-’ sign indicates negative correlation. These values are inline with the regression plots above. We can also visualize the correlation matrix using seaborn heatmap:"
   ]
  },
  {
   "cell_type": "code",
   "execution_count": 34,
   "metadata": {},
   "outputs": [
    {
     "data": {
      "image/png": "[encoded data removed]",
      "text/plain": [
       "<Figure size 1080x360 with 2 Axes>"
      ]
     },
     "metadata": {
      "needs_background": "light"
     },
     "output_type": "display_data"
    }
   ],
   "source": [
    "df.corr().loc[:,'price'].abs().sort_values(ascending=False)[1:]\n",
    "\n",
    "import seaborn as sns\n",
    "corr = df.corr()\n",
    "plt.figure(figsize=(15,5))\n",
    "a = sns.heatmap(corr, annot=True, fmt='.2f')"
   ]
  },
  {
   "cell_type": "markdown",
   "metadata": {},
   "source": [
    "# Conclusion\n"
   ]
  },
  {
   "cell_type": "markdown",
   "metadata": {},
   "source": [
    "car and the mileage. \n",
    "In the case of year of regestration, the more recent the year is more expensive the car is.\n",
    "In conclusion, we established the correlation relation between price, mileage, age and year features of the datasets.  The +1 shows the highest correction between the two features and the negative value as in the correlation map denotes the negative correlation. \n",
    "\n"
   ]
  },
  {
   "cell_type": "code",
   "execution_count": null,
   "metadata": {},
   "outputs": [],
   "source": []
  }
 ],
 "metadata": {
  "kernelspec": {
   "display_name": "Python 3",
   "language": "python",
   "name": "python3"
  },
  "language_info": {
   "codemirror_mode": {
    "name": "ipython",
    "version": 3
   },
   "file_extension": ".py",
   "mimetype": "text/x-python",
   "name": "python",
   "nbconvert_exporter": "python",
   "pygments_lexer": "ipython3",
   "version": "3.7.4"
  }
 },
 "nbformat": 4,
 "nbformat_minor": 2
}
